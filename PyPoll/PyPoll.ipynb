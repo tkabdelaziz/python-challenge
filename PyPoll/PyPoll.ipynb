{
 "cells": [
  {
   "cell_type": "code",
   "execution_count": 1,
   "metadata": {},
   "outputs": [],
   "source": [
    "import os\n",
    "import csv\n",
    "\n",
    "# Path to collect data\n",
    "csv_path = os.path.join('Resources', 'election_data.csv')"
   ]
  },
  {
   "cell_type": "code",
   "execution_count": 2,
   "metadata": {},
   "outputs": [],
   "source": [
    "#initialize variables\n",
    "totalvotes = 0\n",
    "candidates = []\n",
    "candidatevotes = {}\n",
    "\n",
    "winning_count = 0\n",
    "winner = \"\""
   ]
  },
  {
   "cell_type": "code",
   "execution_count": 3,
   "metadata": {},
   "outputs": [],
   "source": [
    "# Read in the CSV file\n",
    "\n",
    "with open(csv_path, 'r') as csvfile:\n",
    "    # Split the data on commas\n",
    "    csvreader = csv.reader(csvfile, delimiter=',')\n",
    "    header = next(csvreader)\n",
    "    for row in csvreader:\n",
    "        totalvotes = totalvotes + 1\n",
    "        candidatename = row[2]\n",
    "        \n",
    "        #check for name and add candidate to list of candidates\n",
    "        if candidatename not in candidates:\n",
    "            candidates.append(candidatename)\n",
    "            #initialize votes\n",
    "            candidatevotes[candidatename] = 0\n",
    "            \n",
    "            \n",
    "        candidatevotes[candidatename] = candidatevotes[candidatename] + 1\n",
    "        "
   ]
  },
  {
   "cell_type": "code",
   "execution_count": 4,
   "metadata": {},
   "outputs": [
    {
     "name": "stdout",
     "output_type": "stream",
     "text": [
      "\n",
      "\n",
      "Election Results\n",
      "-------------------------\n",
      "Total Votes: 3521001\n",
      "-------------------------\n",
      "Khan: 63.000% (2218231)\n",
      "Correy: 20.000% (704200)\n",
      "Li: 14.000% (492940)\n",
      "O'Tooley: 3.000% (105630)\n",
      "-------------------------\n",
      "Winner: Khan\n",
      "-------------------------\n",
      "\n"
     ]
    }
   ],
   "source": [
    "with open(\"election_analysis.txt\", \"w\") as txt_file:\n",
    "    election_results = (\n",
    "            f\"\\n\\nElection Results\\n\"\n",
    "            f\"-------------------------\\n\"\n",
    "            f\"Total Votes: {totalvotes}\\n\"\n",
    "            f\"-------------------------\\n\")\n",
    "    print(election_results, end=\"\")\n",
    "    txt_file.write(election_results)\n",
    "    \n",
    "    for candidate in candidates:\n",
    "            numvotes = candidatevotes.get(candidate)\n",
    "            votepercent = float(numvotes) / float(totalvotes) * 100\n",
    "\n",
    "            # Determine winning vote count and candidate\n",
    "            if (numvotes > winning_count):\n",
    "                winning_count = numvotes\n",
    "                winning_candidate = candidate\n",
    "\n",
    "            candidate_output = f\"{candidate}: {votepercent:.3f}% ({numvotes})\\n\"\n",
    "            print(candidate_output, end=\"\")\n",
    "            \n",
    "            txt_file.write(candidate_output)\n",
    "\n",
    "    winning = (\n",
    "            f\"-------------------------\\n\"\n",
    "            f\"Winner: {winning_candidate}\\n\"\n",
    "            f\"-------------------------\\n\")\n",
    "    print(winning)\n",
    "    txt_file.write(winning)"
   ]
  },
  {
   "cell_type": "code",
   "execution_count": null,
   "metadata": {},
   "outputs": [],
   "source": [
    "\n",
    "    \n",
    "    \n",
    "   "
   ]
  },
  {
   "cell_type": "code",
   "execution_count": null,
   "metadata": {},
   "outputs": [],
   "source": []
  }
 ],
 "metadata": {
  "kernelspec": {
   "display_name": "Conda [PythonData]",
   "language": "python",
   "name": "pythondata"
  },
  "language_info": {
   "codemirror_mode": {
    "name": "ipython",
    "version": 3
   },
   "file_extension": ".py",
   "mimetype": "text/x-python",
   "name": "python",
   "nbconvert_exporter": "python",
   "pygments_lexer": "ipython3",
   "version": "3.6.5"
  }
 },
 "nbformat": 4,
 "nbformat_minor": 2
}
