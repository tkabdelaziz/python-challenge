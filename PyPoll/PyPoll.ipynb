{
 "cells": [
  {
   "cell_type": "code",
   "execution_count": null,
   "metadata": {},
   "outputs": [],
   "source": [
    "import os\n",
    "import csv\n",
    "\n",
    "# Path to collect data\n",
    "csv_path = os.path.join('Resources', 'election_data.csv')"
   ]
  },
  {
   "cell_type": "code",
   "execution_count": null,
   "metadata": {},
   "outputs": [],
   "source": [
    "!head -n 2 Resources/election_data.csv"
   ]
  },
  {
   "cell_type": "code",
   "execution_count": null,
   "metadata": {},
   "outputs": [],
   "source": [
    "def voter_stats(voter_data):\n",
    "    ids.append(voter_data[0])\n",
    "    county.append(voter_data[1])\n",
    "    candidates.append(voter_data[2])\n",
    "    total_votes = len(ids)\n",
    "    khan = voter_data[2].count(\"Khan\")\n",
    "    correy = voter_data[2].count(\"Correy\")\n",
    "    li = voter_data[2].count(\"Li\")\n",
    "    otooley = voter_data[2].count(\"O'Tooley\")\n",
    "    percentK = (khan/total_votes)*100\n",
    "    percentC = (correy/total_votes)*100\n",
    "    percentL = (li/total_votes)*100\n",
    "    percentO = (otooley/total_votes)*100\n",
    "    return total_votes, khan, correy, li, otooley, percentK, percentC, percentL, percentO"
   ]
  },
  {
   "cell_type": "code",
   "execution_count": null,
   "metadata": {},
   "outputs": [],
   "source": [
    "# Read in the CSV file\n",
    "ids = []\n",
    "county = []\n",
    "candidates = []\n",
    "with open(csv_path, 'r') as csvfile:\n",
    "    # Split the data on commas\n",
    "    csvreader = csv.reader(csvfile, delimiter=',')\n",
    "    header = next(csvreader)\n",
    "    for voter_data in csvreader:\n",
    "        voter_stats(voter_data)"
   ]
  },
  {
   "cell_type": "code",
   "execution_count": null,
   "metadata": {},
   "outputs": [],
   "source": []
  },
  {
   "cell_type": "code",
   "execution_count": null,
   "metadata": {},
   "outputs": [],
   "source": []
  },
  {
   "cell_type": "code",
   "execution_count": null,
   "metadata": {},
   "outputs": [],
   "source": []
  }
 ],
 "metadata": {
  "kernelspec": {
   "display_name": "Conda [PythonData]",
   "language": "python",
   "name": "pythondata"
  },
  "language_info": {
   "codemirror_mode": {
    "name": "ipython",
    "version": 3
   },
   "file_extension": ".py",
   "mimetype": "text/x-python",
   "name": "python",
   "nbconvert_exporter": "python",
   "pygments_lexer": "ipython3",
   "version": "3.6.5"
  }
 },
 "nbformat": 4,
 "nbformat_minor": 2
}
