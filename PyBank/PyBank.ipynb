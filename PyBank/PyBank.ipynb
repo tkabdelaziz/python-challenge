{
 "cells": [
  {
   "cell_type": "code",
   "execution_count": 1,
   "metadata": {},
   "outputs": [],
   "source": [
    "import os\n",
    "import csv\n",
    "\n",
    "# Path to collect data\n",
    "csv_path = os.path.join('Resources','budget_data.csv')"
   ]
  },
  {
   "cell_type": "code",
   "execution_count": 2,
   "metadata": {},
   "outputs": [],
   "source": [
    "#initialize totals\n",
    "months = 0\n",
    "prevrevenue = 0\n",
    "totalrevenue = 0\n",
    "\n",
    "#variables to track\n",
    "monthofchange = []\n",
    "revenuechange = []\n",
    "maxincrease = [\"\",0]\n",
    "maxdecrease = [\"\", 1000000000000000]"
   ]
  },
  {
   "cell_type": "code",
   "execution_count": 3,
   "metadata": {},
   "outputs": [],
   "source": [
    "# Read in the CSV file\n",
    "\n",
    "with open(csv_path, 'r') as csvfile:\n",
    "\n",
    "    # Split the data on commas\n",
    "    csvreader = csv.reader(csvfile, delimiter=',')\n",
    "    header = next(csvreader)\n",
    "    for row in csvreader:\n",
    "        months = months + 1\n",
    "        totalrevenue = totalrevenue + int(row[1])\n",
    "        \n",
    "        #track changes in profit/loss\n",
    "        change = int(row[1]) - prevrevenue\n",
    "        prevrevenue = int(row[1])\n",
    "        revenuechange = revenuechange + [change]\n",
    "        monthofchange = monthofchange + [row[0]]\n",
    "        \n",
    "        #find max increase and decrease\n",
    "        if (change > maxincrease[1]):\n",
    "            maxincrease[0] = row[0]\n",
    "            maxincrease[1] = change\n",
    "            \n",
    "        if (change < maxdecrease[1]):\n",
    "            maxdecrease[0] = row[0]\n",
    "            maxdecrease[1] = change\n",
    "            \n",
    "avgrevchange = sum(revenuechange)/len(revenuechange)\n",
    "        "
   ]
  },
  {
   "cell_type": "code",
   "execution_count": 4,
   "metadata": {},
   "outputs": [
    {
     "name": "stdout",
     "output_type": "stream",
     "text": [
      "\n",
      "Financial Analysis\n",
      "----------------------------\n",
      "Total Months: 86\n",
      "Total: $38382578\n",
      "Average  Change: $7803.48\n",
      "Greatest Increase in Profits: Feb-2012 ($1926159)\n",
      "Greatest Decrease in Profits: Sep-2013 ($-2196167)\n",
      "\n"
     ]
    }
   ],
   "source": [
    "# Generate Output Summary\n",
    "summary = (\n",
    "    f\"\\nFinancial Analysis\\n\"\n",
    "    f\"----------------------------\\n\"\n",
    "    f\"Total Months: {months}\\n\"\n",
    "    f\"Total: ${totalrevenue}\\n\"\n",
    "    f\"Average  Change: ${avgrevchange:.2f}\\n\"\n",
    "    f\"Greatest Increase in Profits: {maxincrease[0]} (${maxincrease[1]})\\n\"\n",
    "    f\"Greatest Decrease in Profits: {maxdecrease[0]} (${maxdecrease[1]})\\n\")\n",
    "\n",
    "# Print the output (to terminal)\n",
    "print(summary)"
   ]
  },
  {
   "cell_type": "code",
   "execution_count": 5,
   "metadata": {},
   "outputs": [],
   "source": [
    "# Export the results to text file\n",
    "csv_output = \"budget_analysis.txt\"\n",
    "with open(csv_output, \"w\") as txt_file:\n",
    "    txt_file.write(summary)"
   ]
  },
  {
   "cell_type": "code",
   "execution_count": null,
   "metadata": {},
   "outputs": [],
   "source": []
  }
 ],
 "metadata": {
  "kernelspec": {
   "display_name": "Conda [PythonData]",
   "language": "python",
   "name": "pythondata"
  },
  "language_info": {
   "codemirror_mode": {
    "name": "ipython",
    "version": 3
   },
   "file_extension": ".py",
   "mimetype": "text/x-python",
   "name": "python",
   "nbconvert_exporter": "python",
   "pygments_lexer": "ipython3",
   "version": "3.6.5"
  }
 },
 "nbformat": 4,
 "nbformat_minor": 2
}
